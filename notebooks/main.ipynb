{
 "cells": [
  {
   "cell_type": "markdown",
   "id": "b3dc7bb9",
   "metadata": {},
   "source": [
    "#### Importing Modules"
   ]
  },
  {
   "cell_type": "code",
   "execution_count": 12,
   "id": "07be358b",
   "metadata": {},
   "outputs": [
    {
     "name": "stderr",
     "output_type": "stream",
     "text": [
      "/home/mbchavez/Coding/Learn/csintsy-projects/csintsy-mco2-pinoybot/.pinoybotenv/lib64/python3.13/site-packages/tqdm/auto.py:21: TqdmWarning: IProgress not found. Please update jupyter and ipywidgets. See https://ipywidgets.readthedocs.io/en/stable/user_install.html\n",
      "  from .autonotebook import tqdm as notebook_tqdm\n"
     ]
    }
   ],
   "source": [
    "import pandas as pd\n",
    "from sentence_transformers import SentenceTransformer"
   ]
  },
  {
   "cell_type": "markdown",
   "id": "947744f5",
   "metadata": {},
   "source": [
    "#### Setting up Dataset"
   ]
  },
  {
   "cell_type": "code",
   "execution_count": 10,
   "id": "66bb15b7",
   "metadata": {},
   "outputs": [
    {
     "name": "stdout",
     "output_type": "stream",
     "text": [
      "Dataset: \n"
     ]
    },
    {
     "data": {
      "text/html": [
       "<div>\n",
       "<style scoped>\n",
       "    .dataframe tbody tr th:only-of-type {\n",
       "        vertical-align: middle;\n",
       "    }\n",
       "\n",
       "    .dataframe tbody tr th {\n",
       "        vertical-align: top;\n",
       "    }\n",
       "\n",
       "    .dataframe thead th {\n",
       "        text-align: right;\n",
       "    }\n",
       "</style>\n",
       "<table border=\"1\" class=\"dataframe\">\n",
       "  <thead>\n",
       "    <tr style=\"text-align: right;\">\n",
       "      <th></th>\n",
       "      <th>word_id</th>\n",
       "      <th>sentence_id</th>\n",
       "      <th>word</th>\n",
       "      <th>label</th>\n",
       "      <th>is_ne</th>\n",
       "      <th>is_spelling_correct</th>\n",
       "    </tr>\n",
       "  </thead>\n",
       "  <tbody>\n",
       "    <tr>\n",
       "      <th>0</th>\n",
       "      <td>45</td>\n",
       "      <td>1</td>\n",
       "      <td>Gusto</td>\n",
       "      <td>FIL</td>\n",
       "      <td>NaN</td>\n",
       "      <td>True</td>\n",
       "    </tr>\n",
       "    <tr>\n",
       "      <th>1</th>\n",
       "      <td>46</td>\n",
       "      <td>1</td>\n",
       "      <td>kong</td>\n",
       "      <td>FIL</td>\n",
       "      <td>NaN</td>\n",
       "      <td>True</td>\n",
       "    </tr>\n",
       "    <tr>\n",
       "      <th>2</th>\n",
       "      <td>47</td>\n",
       "      <td>1</td>\n",
       "      <td>intindihin</td>\n",
       "      <td>FIL</td>\n",
       "      <td>NaN</td>\n",
       "      <td>True</td>\n",
       "    </tr>\n",
       "    <tr>\n",
       "      <th>3</th>\n",
       "      <td>48</td>\n",
       "      <td>1</td>\n",
       "      <td>pero</td>\n",
       "      <td>FIL</td>\n",
       "      <td>NaN</td>\n",
       "      <td>True</td>\n",
       "    </tr>\n",
       "    <tr>\n",
       "      <th>4</th>\n",
       "      <td>49</td>\n",
       "      <td>1</td>\n",
       "      <td>hindi</td>\n",
       "      <td>FIL</td>\n",
       "      <td>NaN</td>\n",
       "      <td>True</td>\n",
       "    </tr>\n",
       "  </tbody>\n",
       "</table>\n",
       "</div>"
      ],
      "text/plain": [
       "   word_id  sentence_id        word label is_ne  is_spelling_correct\n",
       "0       45            1       Gusto   FIL   NaN                 True\n",
       "1       46            1        kong   FIL   NaN                 True\n",
       "2       47            1  intindihin   FIL   NaN                 True\n",
       "3       48            1        pero   FIL   NaN                 True\n",
       "4       49            1       hindi   FIL   NaN                 True"
      ]
     },
     "execution_count": 10,
     "metadata": {},
     "output_type": "execute_result"
    }
   ],
   "source": [
    "print(\"Dataset: \")\n",
    "language = pd.read_csv(\"../data/final_annotations.csv\")\n",
    "\n",
    "language.head()"
   ]
  },
  {
   "cell_type": "code",
   "execution_count": 18,
   "id": "1ca98e20",
   "metadata": {},
   "outputs": [
    {
     "data": {
      "text/plain": [
       "0        [-0.049598854, 0.012619668, 0.015824769, 0.035...\n",
       "1        [-0.03217564, 0.029607292, 0.024639964, 0.0776...\n",
       "2        [-0.010012416, 0.0578119, 0.021821635, -0.0052...\n",
       "3        [-0.038002297, 0.05431241, -0.027921673, -0.02...\n",
       "4        [-0.046178948, -0.0077228756, -0.05874152, 0.0...\n",
       "                               ...                        \n",
       "23145    [-0.07845599, 0.028494067, -0.11666181, 0.0732...\n",
       "23146    [-0.013240754, 0.08617054, -0.06811582, -0.004...\n",
       "23147    [-0.06914428, 0.016087493, 0.05119962, 0.01648...\n",
       "23148    [0.0041266084, 0.17076877, -0.039219838, 0.023...\n",
       "23149    [-0.13382289, 0.014150828, -0.016216075, -0.02...\n",
       "Name: embeddings, Length: 23150, dtype: object"
      ]
     },
     "execution_count": 18,
     "metadata": {},
     "output_type": "execute_result"
    }
   ],
   "source": [
    "# Load HuggingFace Sentence Transformer Model\n",
    "model = SentenceTransformer('all-MiniLM-L6-v2')\n",
    "\n",
    "# Convert \"words\" that arent string to string\n",
    "language['word'] = language['word'].astype(str)\n",
    "\n",
    "#Generate embeddings for words\n",
    "language['embeddings'] = list(model.encode(language['word'].tolist()))\n",
    "\n",
    "\n",
    "language['embeddings']"
   ]
  }
 ],
 "metadata": {
  "kernelspec": {
   "display_name": ".pinoybotenv",
   "language": "python",
   "name": "python3"
  },
  "language_info": {
   "codemirror_mode": {
    "name": "ipython",
    "version": 3
   },
   "file_extension": ".py",
   "mimetype": "text/x-python",
   "name": "python",
   "nbconvert_exporter": "python",
   "pygments_lexer": "ipython3",
   "version": "3.13.7"
  }
 },
 "nbformat": 4,
 "nbformat_minor": 5
}
